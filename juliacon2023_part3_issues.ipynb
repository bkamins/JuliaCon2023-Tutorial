{
 "cells": [
  {
   "cell_type": "markdown",
   "id": "81950dea",
   "metadata": {},
   "source": [
    "# Working with DataFrames.jl beyond CSV files\n",
    "\n",
    "# Part 3: Important limitations of Parquet\n",
    "\n",
    "## Bogumił Kamiński\n",
    "### June 25, 2023"
   ]
  },
  {
   "cell_type": "markdown",
   "id": "4acb3ec2",
   "metadata": {},
   "source": [
    "What is covered in part 3:\n",
    "* Limitations of `RowGroup` size\n",
    "* Avoid excessive copying of data"
   ]
  },
  {
   "cell_type": "markdown",
   "id": "cf3d92ee",
   "metadata": {},
   "source": [
    "## Setup"
   ]
  },
  {
   "cell_type": "code",
   "execution_count": 1,
   "id": "3ac0783f",
   "metadata": {},
   "outputs": [],
   "source": [
    "using DataFrames"
   ]
  },
  {
   "cell_type": "code",
   "execution_count": 2,
   "id": "8bc85c87",
   "metadata": {},
   "outputs": [],
   "source": [
    "using Parquet2"
   ]
  },
  {
   "cell_type": "markdown",
   "id": "180ff9ba",
   "metadata": {},
   "source": [
    "## Handling tables with large number of rows"
   ]
  },
  {
   "cell_type": "code",
   "execution_count": 3,
   "id": "453115bc",
   "metadata": {},
   "outputs": [],
   "source": [
    "isfile(\"large_df.parquet\") && rm(\"large_df.parquet\")"
   ]
  },
  {
   "cell_type": "code",
   "execution_count": 4,
   "id": "4b246cce",
   "metadata": {},
   "outputs": [
    {
     "data": {
      "text/html": [
       "<div><div style = \"float: left;\"><span>300000000×1 DataFrame</span></div><div style = \"float: right;\"><span style = \"font-style: italic;\">299999975 rows omitted</span></div><div style = \"clear: both;\"></div></div><div class = \"data-frame\" style = \"overflow-x: scroll;\"><table class = \"data-frame\" style = \"margin-bottom: 6px;\"><thead><tr class = \"header\"><th class = \"rowNumber\" style = \"font-weight: bold; text-align: right;\">Row</th><th style = \"text-align: left;\">x</th></tr><tr class = \"subheader headerLastRow\"><th class = \"rowNumber\" style = \"font-weight: bold; text-align: right;\"></th><th title = \"Float64\" style = \"text-align: left;\">Float64</th></tr></thead><tbody><tr><td class = \"rowNumber\" style = \"font-weight: bold; text-align: right;\">1</td><td style = \"text-align: right;\">0.970803</td></tr><tr><td class = \"rowNumber\" style = \"font-weight: bold; text-align: right;\">2</td><td style = \"text-align: right;\">0.841825</td></tr><tr><td class = \"rowNumber\" style = \"font-weight: bold; text-align: right;\">3</td><td style = \"text-align: right;\">0.0484231</td></tr><tr><td class = \"rowNumber\" style = \"font-weight: bold; text-align: right;\">4</td><td style = \"text-align: right;\">0.764995</td></tr><tr><td class = \"rowNumber\" style = \"font-weight: bold; text-align: right;\">5</td><td style = \"text-align: right;\">0.438937</td></tr><tr><td class = \"rowNumber\" style = \"font-weight: bold; text-align: right;\">6</td><td style = \"text-align: right;\">0.972333</td></tr><tr><td class = \"rowNumber\" style = \"font-weight: bold; text-align: right;\">7</td><td style = \"text-align: right;\">0.357896</td></tr><tr><td class = \"rowNumber\" style = \"font-weight: bold; text-align: right;\">8</td><td style = \"text-align: right;\">0.830436</td></tr><tr><td class = \"rowNumber\" style = \"font-weight: bold; text-align: right;\">9</td><td style = \"text-align: right;\">0.090152</td></tr><tr><td class = \"rowNumber\" style = \"font-weight: bold; text-align: right;\">10</td><td style = \"text-align: right;\">0.780723</td></tr><tr><td class = \"rowNumber\" style = \"font-weight: bold; text-align: right;\">11</td><td style = \"text-align: right;\">0.144802</td></tr><tr><td class = \"rowNumber\" style = \"font-weight: bold; text-align: right;\">12</td><td style = \"text-align: right;\">0.903739</td></tr><tr><td class = \"rowNumber\" style = \"font-weight: bold; text-align: right;\">13</td><td style = \"text-align: right;\">0.375271</td></tr><tr><td style = \"text-align: right;\">&vellip;</td><td style = \"text-align: right;\">&vellip;</td></tr><tr><td class = \"rowNumber\" style = \"font-weight: bold; text-align: right;\">299999989</td><td style = \"text-align: right;\">0.865466</td></tr><tr><td class = \"rowNumber\" style = \"font-weight: bold; text-align: right;\">299999990</td><td style = \"text-align: right;\">0.850942</td></tr><tr><td class = \"rowNumber\" style = \"font-weight: bold; text-align: right;\">299999991</td><td style = \"text-align: right;\">0.866739</td></tr><tr><td class = \"rowNumber\" style = \"font-weight: bold; text-align: right;\">299999992</td><td style = \"text-align: right;\">0.281398</td></tr><tr><td class = \"rowNumber\" style = \"font-weight: bold; text-align: right;\">299999993</td><td style = \"text-align: right;\">0.751348</td></tr><tr><td class = \"rowNumber\" style = \"font-weight: bold; text-align: right;\">299999994</td><td style = \"text-align: right;\">0.819741</td></tr><tr><td class = \"rowNumber\" style = \"font-weight: bold; text-align: right;\">299999995</td><td style = \"text-align: right;\">0.235294</td></tr><tr><td class = \"rowNumber\" style = \"font-weight: bold; text-align: right;\">299999996</td><td style = \"text-align: right;\">0.760385</td></tr><tr><td class = \"rowNumber\" style = \"font-weight: bold; text-align: right;\">299999997</td><td style = \"text-align: right;\">0.588597</td></tr><tr><td class = \"rowNumber\" style = \"font-weight: bold; text-align: right;\">299999998</td><td style = \"text-align: right;\">0.580177</td></tr><tr><td class = \"rowNumber\" style = \"font-weight: bold; text-align: right;\">299999999</td><td style = \"text-align: right;\">0.456726</td></tr><tr><td class = \"rowNumber\" style = \"font-weight: bold; text-align: right;\">300000000</td><td style = \"text-align: right;\">0.554389</td></tr></tbody></table></div>"
      ],
      "text/latex": [
       "\\begin{tabular}{r|c}\n",
       "\t& x\\\\\n",
       "\t\\hline\n",
       "\t& Float64\\\\\n",
       "\t\\hline\n",
       "\t1 & 0.970803 \\\\\n",
       "\t2 & 0.841825 \\\\\n",
       "\t3 & 0.0484231 \\\\\n",
       "\t4 & 0.764995 \\\\\n",
       "\t5 & 0.438937 \\\\\n",
       "\t6 & 0.972333 \\\\\n",
       "\t7 & 0.357896 \\\\\n",
       "\t8 & 0.830436 \\\\\n",
       "\t9 & 0.090152 \\\\\n",
       "\t10 & 0.780723 \\\\\n",
       "\t11 & 0.144802 \\\\\n",
       "\t12 & 0.903739 \\\\\n",
       "\t13 & 0.375271 \\\\\n",
       "\t14 & 0.713255 \\\\\n",
       "\t15 & 0.855335 \\\\\n",
       "\t16 & 0.633159 \\\\\n",
       "\t17 & 0.815826 \\\\\n",
       "\t18 & 0.0735042 \\\\\n",
       "\t19 & 0.573114 \\\\\n",
       "\t20 & 0.403656 \\\\\n",
       "\t21 & 0.172389 \\\\\n",
       "\t22 & 0.365429 \\\\\n",
       "\t23 & 0.290728 \\\\\n",
       "\t24 & 0.228912 \\\\\n",
       "\t25 & 0.0985188 \\\\\n",
       "\t26 & 0.387811 \\\\\n",
       "\t27 & 0.978131 \\\\\n",
       "\t28 & 0.859664 \\\\\n",
       "\t29 & 0.922425 \\\\\n",
       "\t30 & 0.868172 \\\\\n",
       "\t$\\dots$ & $\\dots$ \\\\\n",
       "\\end{tabular}\n"
      ],
      "text/plain": [
       "\u001b[1m300000000×1 DataFrame\u001b[0m\n",
       "\u001b[1m       Row \u001b[0m│\u001b[1m x         \u001b[0m\n",
       "           │\u001b[90m Float64   \u001b[0m\n",
       "───────────┼───────────\n",
       "         1 │ 0.970803\n",
       "         2 │ 0.841825\n",
       "         3 │ 0.0484231\n",
       "         4 │ 0.764995\n",
       "         5 │ 0.438937\n",
       "         6 │ 0.972333\n",
       "         7 │ 0.357896\n",
       "         8 │ 0.830436\n",
       "         9 │ 0.090152\n",
       "        10 │ 0.780723\n",
       "        11 │ 0.144802\n",
       "     ⋮     │     ⋮\n",
       " 299999991 │ 0.866739\n",
       " 299999992 │ 0.281398\n",
       " 299999993 │ 0.751348\n",
       " 299999994 │ 0.819741\n",
       " 299999995 │ 0.235294\n",
       " 299999996 │ 0.760385\n",
       " 299999997 │ 0.588597\n",
       " 299999998 │ 0.580177\n",
       " 299999999 │ 0.456726\n",
       " 300000000 │ 0.554389\n",
       "\u001b[36m 299999979 rows omitted\u001b[0m"
      ]
     },
     "execution_count": 4,
     "metadata": {},
     "output_type": "execute_result"
    }
   ],
   "source": [
    "large_df = DataFrame(x=rand(3*10^8))"
   ]
  },
  {
   "cell_type": "markdown",
   "id": "42e65e33",
   "metadata": {},
   "source": [
    "This table has too many rows and cannot be stored in Parquet as one `RowGroup`."
   ]
  },
  {
   "cell_type": "code",
   "execution_count": 5,
   "id": "59088cc4",
   "metadata": {},
   "outputs": [
    {
     "ename": "LoadError",
     "evalue": "InexactError: trunc(Int32, 2400000000)",
     "output_type": "error",
     "traceback": [
      "InexactError: trunc(Int32, 2400000000)",
      "",
      "Stacktrace:",
      "  [1] throw_inexacterror(f::Symbol, #unused#::Type{Int32}, val::Int64)",
      "    @ Core .\\boot.jl:634",
      "  [2] checked_trunc_sint",
      "    @ .\\boot.jl:656 [inlined]",
      "  [3] toInt32",
      "    @ .\\boot.jl:693 [inlined]",
      "  [4] Int32",
      "    @ .\\boot.jl:783 [inlined]",
      "  [5] convert",
      "    @ .\\number.jl:7 [inlined]",
      "  [6] PageHeader",
      "    @ C:\\Users\\bogum\\.julia\\packages\\Parquet2\\oBdXj\\src\\Metadata\\Metadata.jl:216 [inlined]",
      "  [7] #PageHeader#72",
      "    @ .\\util.jl:567 [inlined]",
      "  [8] Parquet2.Metadata.PageHeader(pw::Parquet2.PageWriter{Parquet2.ParqFloat64, Parquet2.ParqFloat64, SubArray{Float64, 1, Vector{Float64}, Tuple{UnitRange{Int64}}, true}, ComposedFunction{typeof(Snappy.compress), Type{Vector}}})",
      "    @ Parquet2 C:\\Users\\bogum\\.julia\\packages\\Parquet2\\oBdXj\\src\\write.jl:353",
      "  [9] write(io::IOStream, pw::Parquet2.PageWriter{Parquet2.ParqFloat64, Parquet2.ParqFloat64, SubArray{Float64, 1, Vector{Float64}, Tuple{UnitRange{Int64}}, true}, ComposedFunction{typeof(Snappy.compress), Type{Vector}}})",
      "    @ Parquet2 C:\\Users\\bogum\\.julia\\packages\\Parquet2\\oBdXj\\src\\write.jl:465",
      " [10] _write_page!(io::IOStream, cw::Parquet2.ColumnWriter{Vector{Float64}, Parquet2.ParqFloat64, Nothing}, pw::Parquet2.PageWriter{Parquet2.ParqFloat64, Parquet2.ParqFloat64, SubArray{Float64, 1, Vector{Float64}, Tuple{UnitRange{Int64}}, true}, ComposedFunction{typeof(Snappy.compress), Type{Vector}}})",
      "    @ Parquet2 C:\\Users\\bogum\\.julia\\packages\\Parquet2\\oBdXj\\src\\write.jl:581",
      " [11] _writepages_default!(io::IOStream, cw::Parquet2.ColumnWriter{Vector{Float64}, Parquet2.ParqFloat64, Nothing}, s::Parquet2.ParqFloat64; compress::Function)",
      "    @ Parquet2 C:\\Users\\bogum\\.julia\\packages\\Parquet2\\oBdXj\\src\\write.jl:608",
      " [12] _writepages_default!",
      "    @ C:\\Users\\bogum\\.julia\\packages\\Parquet2\\oBdXj\\src\\write.jl:603 [inlined]",
      " [13] #_writepages!#168",
      "    @ C:\\Users\\bogum\\.julia\\packages\\Parquet2\\oBdXj\\src\\write.jl:619 [inlined]",
      " [14] write(io::IOStream, cw::Parquet2.ColumnWriter{Vector{Float64}, Parquet2.ParqFloat64, Nothing})",
      "    @ Parquet2 C:\\Users\\bogum\\.julia\\packages\\Parquet2\\oBdXj\\src\\write.jl:553",
      " [15] writetable!(fw::Parquet2.FileWriter{IOStream}, tbl::DataFrame)",
      "    @ Parquet2 C:\\Users\\bogum\\.julia\\packages\\Parquet2\\oBdXj\\src\\write.jl:814",
      " [16] writeiterable!(fw::Parquet2.FileWriter{IOStream}, tbls::Tuple{DataFrame})",
      "    @ Parquet2 C:\\Users\\bogum\\.julia\\packages\\Parquet2\\oBdXj\\src\\write.jl:862",
      " [17] writefile!",
      "    @ C:\\Users\\bogum\\.julia\\packages\\Parquet2\\oBdXj\\src\\write.jl:874 [inlined]",
      " [18] #writefile#180",
      "    @ C:\\Users\\bogum\\.julia\\packages\\Parquet2\\oBdXj\\src\\write.jl:889 [inlined]",
      " [19] writefile",
      "    @ C:\\Users\\bogum\\.julia\\packages\\Parquet2\\oBdXj\\src\\write.jl:887 [inlined]",
      " [20] #184",
      "    @ C:\\Users\\bogum\\.julia\\packages\\Parquet2\\oBdXj\\src\\write.jl:894 [inlined]",
      " [21] open(f::Parquet2.var\"#184#185\"{Base.Pairs{Symbol, Union{}, Tuple{}, NamedTuple{(), Tuple{}}}, String, DataFrame}, args::String; kwargs::Base.Pairs{Symbol, Bool, Tuple{Symbol}, NamedTuple{(:write,), Tuple{Bool}}})",
      "    @ Base .\\io.jl:395",
      " [22] open",
      "    @ .\\io.jl:392 [inlined]",
      " [23] #writefile#183",
      "    @ C:\\Users\\bogum\\.julia\\packages\\Parquet2\\oBdXj\\src\\write.jl:894 [inlined]",
      " [24] writefile(path::String, tbl::DataFrame)",
      "    @ Parquet2 C:\\Users\\bogum\\.julia\\packages\\Parquet2\\oBdXj\\src\\write.jl:893",
      " [25] top-level scope",
      "    @ In[5]:1"
     ]
    }
   ],
   "source": [
    "Parquet2.writefile(\"large_df.parquet\", large_df)"
   ]
  },
  {
   "cell_type": "markdown",
   "id": "84101f37",
   "metadata": {},
   "source": [
    "We need to split it into partitions of smaller size using `Iterators.partition`:"
   ]
  },
  {
   "cell_type": "code",
   "execution_count": 6,
   "id": "18ba68dd",
   "metadata": {},
   "outputs": [
    {
     "data": {
      "text/plain": [
       "\u001b[34m✏ \u001b[39mParquet2.FileWriter{IOStream}(large_df.parquet)"
      ]
     },
     "execution_count": 6,
     "metadata": {},
     "output_type": "execute_result"
    }
   ],
   "source": [
    "Parquet2.writefile(\"large_df.parquet\", Iterators.partition(large_df, 10^8))"
   ]
  },
  {
   "cell_type": "markdown",
   "id": "4f2ffa33",
   "metadata": {},
   "source": [
    "Drop original data to save memory:"
   ]
  },
  {
   "cell_type": "code",
   "execution_count": 7,
   "id": "6d1fc286",
   "metadata": {},
   "outputs": [],
   "source": [
    "large_df = nothing"
   ]
  },
  {
   "cell_type": "markdown",
   "id": "85895503",
   "metadata": {},
   "source": [
    "## Impact of `copycols` keyword argument when fetching data to a `DataFrame`"
   ]
  },
  {
   "cell_type": "markdown",
   "id": "6e716993",
   "metadata": {},
   "source": [
    "`copycols=true` option:"
   ]
  },
  {
   "cell_type": "code",
   "execution_count": 8,
   "id": "493809aa",
   "metadata": {},
   "outputs": [
    {
     "data": {
      "text/plain": [
       "12000208304"
      ]
     },
     "execution_count": 8,
     "metadata": {},
     "output_type": "execute_result"
    }
   ],
   "source": [
    "DataFrame(Parquet2.readfile(\"large_df.parquet\"))\n",
    "GC.gc(); GC.gc(); GC.gc(); GC.gc()\n",
    "@allocated DataFrame(Parquet2.readfile(\"large_df.parquet\"))"
   ]
  },
  {
   "cell_type": "markdown",
   "id": "a900295c",
   "metadata": {},
   "source": [
    "`copycols=false` option:"
   ]
  },
  {
   "cell_type": "code",
   "execution_count": 9,
   "id": "b2ba467a",
   "metadata": {},
   "outputs": [
    {
     "data": {
      "text/plain": [
       "9600208336"
      ]
     },
     "execution_count": 9,
     "metadata": {},
     "output_type": "execute_result"
    }
   ],
   "source": [
    "DataFrame(Parquet2.readfile(\"large_df.parquet\"), copycols=false)\n",
    "GC.gc(); GC.gc(); GC.gc(); GC.gc()\n",
    "@allocated DataFrame(Parquet2.readfile(\"large_df.parquet\"), copycols=false)"
   ]
  },
  {
   "cell_type": "markdown",
   "id": "9d2f8738",
   "metadata": {},
   "source": [
    "**This issue has been fixed in Parquet2.jl version 0.2.18. Since this version you can omit passing `copycols=false`. Excessive copying is automatically avoided.**"
   ]
  },
  {
   "cell_type": "markdown",
   "id": "97ea16bc",
   "metadata": {},
   "source": [
    "*Preparation of this worksop has been supported by the Polish National Agency for Academic Exchange under the Strategic Partnerships programme, grant number BPI/PST/2021/1/00069/U/00001.*\n",
    "\n",
    "![SGH & NAWA](logo.png)"
   ]
  }
 ],
 "metadata": {
  "kernelspec": {
   "display_name": "Julia 1.9.2",
   "language": "julia",
   "name": "julia-1.9"
  },
  "language_info": {
   "file_extension": ".jl",
   "mimetype": "application/julia",
   "name": "julia",
   "version": "1.9.2"
  }
 },
 "nbformat": 4,
 "nbformat_minor": 5
}
